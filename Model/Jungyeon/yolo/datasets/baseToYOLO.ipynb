{
 "cells": [
  {
   "cell_type": "code",
   "execution_count": 42,
   "metadata": {},
   "outputs": [],
   "source": [
    "# json 파일 경로 지정\n",
    "split_file = '/data/ephemeral/home/Jungyeon/level2-cv-semanticsegmentation-cv-02-lv3/Data/train_valid_split/splits/fold_0.json'\n",
    "image_root = \"/data/ephemeral/home/data/train/DCM\"\n",
    "label_root = \"/data/ephemeral/home/data/train/outputs_json\"\n",
    "\n",
    "with open(split_file, 'r') as f:\n",
    "    split_data = json.load(f)\n",
    "    train_dataset = split_data['train_filenames']\n",
    "    train_labelnames = split_data['train_labelnames']\n",
    "    valid_dataset = split_data['valid_filenames']\n",
    "    valid_labelnames = split_data['valid_labelnames']\n"
   ]
  },
  {
   "cell_type": "code",
   "execution_count": 138,
   "metadata": {},
   "outputs": [
    {
     "name": "stdout",
     "output_type": "stream",
     "text": [
      "파일 이동 완료!\n",
      "파일 이동 완료!\n"
     ]
    }
   ],
   "source": [
    "import os\n",
    "import shutil\n",
    "\n",
    "def move_images(destination_path, dataset, image_root):\n",
    "    \n",
    "    # 경로 생성\n",
    "    os.makedirs(destination_path, exist_ok=True)\n",
    "\n",
    "    # 파일 이동\n",
    "    for file_path in dataset:\n",
    "        new_file_path = file_path[6:]\n",
    "        source_file = os.path.join(image_root, file_path)\n",
    "        destination_file = os.path.join(destination_path, new_file_path)\n",
    "        shutil.copy(source_file, destination_file)  # 파일 복사\n",
    "            \n",
    "    print(\"파일 이동 완료!\")\n",
    "\n",
    "# move_images(\"/data/ephemeral/home/Jungyeon/Yolo/datasets/base-seg/images/train/\", train_dataset, image_root)\n",
    "# move_images(\"/data/ephemeral/home/Jungyeon/Yolo/datasets/base-seg/images/valid/\", valid_dataset, image_root)\n",
    "move_images(\"/data/ephemeral/home/Jungyeon/Yolo/datasets/base-seg/labels_base/train/\", train_labelnames, label_root)\n",
    "move_images(\"/data/ephemeral/home/Jungyeon/Yolo/datasets/base-seg/labels_base/valid/\", valid_labelnames, label_root)\n"
   ]
  },
  {
   "cell_type": "code",
   "execution_count": 150,
   "metadata": {},
   "outputs": [
    {
     "name": "stdout",
     "output_type": "stream",
     "text": [
      "Train 폴더 안의 파일 개수: 160\n"
     ]
    }
   ],
   "source": [
    "import os\n",
    "\n",
    "# 경로 설정\n",
    "train_folder = '/data/ephemeral/home/Jungyeon/Yolo/datasets/base-seg/labels/valid'  # train 폴더의 절대경로 또는 상대경로\n",
    "\n",
    "# 파일 개수 세기\n",
    "file_count = 0\n",
    "for root, dirs, files in os.walk(train_folder):\n",
    "    file_count += len(files)  # 현재 디렉토리 안의 파일 개수 추가\n",
    "\n",
    "print(f\"Train 폴더 안의 파일 개수: {file_count}\")"
   ]
  },
  {
   "cell_type": "code",
   "execution_count": 120,
   "metadata": {},
   "outputs": [
    {
     "name": "stdout",
     "output_type": "stream",
     "text": [
      "{0: 'finger-1', 1: 'finger-2', 2: 'finger-3', 3: 'finger-4', 4: 'finger-5', 5: 'finger-6', 6: 'finger-7', 7: 'finger-8', 8: 'finger-9', 9: 'finger-10', 10: 'finger-11', 11: 'finger-12', 12: 'finger-13', 13: 'finger-14', 14: 'finger-15', 15: 'finger-16', 16: 'finger-17', 17: 'finger-18', 18: 'finger-19', 19: 'Trapezium', 20: 'Trapezoid', 21: 'Capitate', 22: 'Hamate', 23: 'Scaphoid', 24: 'Lunate', 25: 'Triquetrum', 26: 'Pisiform', 27: 'Radius', 28: 'Ulna'}\n"
     ]
    }
   ],
   "source": [
    "# class-index to number index\n",
    "CLASSES = [\n",
    "    'finger-1', 'finger-2', 'finger-3', 'finger-4', 'finger-5',\n",
    "    'finger-6', 'finger-7', 'finger-8', 'finger-9', 'finger-10',\n",
    "    'finger-11', 'finger-12', 'finger-13', 'finger-14', 'finger-15',\n",
    "    'finger-16', 'finger-17', 'finger-18', 'finger-19', 'Trapezium',\n",
    "    'Trapezoid', 'Capitate', 'Hamate', 'Scaphoid', 'Lunate',\n",
    "    'Triquetrum', 'Pisiform', 'Radius', 'Ulna',\n",
    "]\n",
    "\n",
    "CLASS2IND = {v: i for i, v in enumerate(CLASSES)}\n",
    "\n",
    "IND2CLASS = {v: k for k, v in CLASS2IND.items()}\n",
    "print(IND2CLASS)"
   ]
  },
  {
   "cell_type": "code",
   "execution_count": 131,
   "metadata": {},
   "outputs": [],
   "source": [
    "def normalize_coordinates(data, image_width, image_height):\n",
    "    \"\"\"Normalize coordinates and ensure they are within bounds.\"\"\"\n",
    "    normalized_lines = []\n",
    "    for line in data:\n",
    "        normalized_numbers = []\n",
    "        for i, num in enumerate(line):\n",
    "            if i % 2 == 0:  # x coordinate\n",
    "                normalized_num = num / image_width\n",
    "            else:  # y coordinate\n",
    "                normalized_num = num / image_height\n",
    "\n",
    "            # Ensure coordinates are within [0, 1]\n",
    "            normalized_num = max(0.0, min(1.0, normalized_num))\n",
    "            normalized_numbers.append(normalized_num)\n",
    "\n",
    "        normalized_lines.append(\" \".join(map(str, normalized_numbers)))\n",
    "    return normalized_lines"
   ]
  },
  {
   "cell_type": "code",
   "execution_count": null,
   "metadata": {},
   "outputs": [],
   "source": [
    "# YOLO : <class-index> <x1> <y1> <x2> <y2> ... <xn> <yn>\n",
    "\n",
    "import json\n",
    "\n",
    "json_dir = \"/data/ephemeral/home/Jungyeon/Yolo/datasets/base-seg/labels_base/train\"\n",
    "yolo_dir = '/data/ephemeral/home/Jungyeon/Yolo/datasets/base-seg/labels/train'\n",
    "\n",
    "for json_path in os.listdir(json_dir):\n",
    "    print(json_path)\n",
    "\n",
    "    annotation_path = os.path.join(json_dir, json_path)\n",
    "    with open(annotation_path, 'r') as f:\n",
    "        annotations = json.load(f)\n",
    "\n",
    "    for annotation in annotations['annotations']:\n",
    "        yolo_ann = \"\"\n",
    "        \n",
    "        class_label = annotation['label']\n",
    "        class_idx = CLASS2IND[class_label]\n",
    "        \n",
    "        yolo_ann += str(class_idx) + \" \"\n",
    "        \n",
    "        points = annotation['points']\n",
    "        \n",
    "        norm_points = normalize_coordinates(points, 2048, 2048)\n",
    "\n",
    "        for point in norm_points:\n",
    "            yolo_ann += \" \".join(str(p) for p in point.split()) + \" \"\n",
    "     \n",
    "        # 파일 경로 설정\n",
    "        file_path = f'{yolo_dir}/{json_path[:-4]}txt'\n",
    "        \n",
    "        # 파일 경로의 디렉토리가 없다면 디렉토리 생성\n",
    "        directory = os.path.dirname(file_path)\n",
    "        if not os.path.exists(directory):\n",
    "            os.makedirs(directory)\n",
    "\n",
    "        # 파일에 데이터 추가\n",
    "        with open(file_path, \"a\") as file:  # \"a\" 모드는 append\n",
    "            line = yolo_ann + \"\\n\"\n",
    "            file.write(line)\n",
    "\n",
    "        print(f\"Data successfully added to {file_path}\")"
   ]
  }
 ],
 "metadata": {
  "kernelspec": {
   "display_name": "torch",
   "language": "python",
   "name": "python3"
  },
  "language_info": {
   "codemirror_mode": {
    "name": "ipython",
    "version": 3
   },
   "file_extension": ".py",
   "mimetype": "text/x-python",
   "name": "python",
   "nbconvert_exporter": "python",
   "pygments_lexer": "ipython3",
   "version": "3.10.13"
  },
  "orig_nbformat": 4
 },
 "nbformat": 4,
 "nbformat_minor": 2
}
