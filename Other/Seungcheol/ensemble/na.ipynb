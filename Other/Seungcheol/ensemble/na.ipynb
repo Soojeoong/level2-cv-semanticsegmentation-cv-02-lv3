{
 "cells": [
  {
   "cell_type": "code",
   "execution_count": 4,
   "metadata": {},
   "outputs": [],
   "source": [
    "import pandas as pd\n",
    "\n",
    "dat=pd.read_csv(\"/data/ephemeral/home/Seungcheol/unet++_1024.csv\")"
   ]
  },
  {
   "cell_type": "code",
   "execution_count": 5,
   "metadata": {},
   "outputs": [
    {
     "data": {
      "text/html": [
       "<div>\n",
       "<style scoped>\n",
       "    .dataframe tbody tr th:only-of-type {\n",
       "        vertical-align: middle;\n",
       "    }\n",
       "\n",
       "    .dataframe tbody tr th {\n",
       "        vertical-align: top;\n",
       "    }\n",
       "\n",
       "    .dataframe thead th {\n",
       "        text-align: right;\n",
       "    }\n",
       "</style>\n",
       "<table border=\"1\" class=\"dataframe\">\n",
       "  <thead>\n",
       "    <tr style=\"text-align: right;\">\n",
       "      <th></th>\n",
       "      <th>image_name</th>\n",
       "      <th>class</th>\n",
       "      <th>rle</th>\n",
       "    </tr>\n",
       "  </thead>\n",
       "  <tbody>\n",
       "    <tr>\n",
       "      <th>0</th>\n",
       "      <td>image1661319116107.png</td>\n",
       "      <td>finger-1</td>\n",
       "      <td>1814994 5 1817039 13 1819085 18 1821132 22 182...</td>\n",
       "    </tr>\n",
       "    <tr>\n",
       "      <th>1</th>\n",
       "      <td>image1661319116107.png</td>\n",
       "      <td>finger-2</td>\n",
       "      <td>2079292 8 2081337 13 2083382 18 2085427 22 208...</td>\n",
       "    </tr>\n",
       "    <tr>\n",
       "      <th>2</th>\n",
       "      <td>image1661319116107.png</td>\n",
       "      <td>finger-3</td>\n",
       "      <td>2538135 7 2540181 11 2542228 14 2544275 17 254...</td>\n",
       "    </tr>\n",
       "    <tr>\n",
       "      <th>3</th>\n",
       "      <td>image1661319116107.png</td>\n",
       "      <td>finger-4</td>\n",
       "      <td>828114 12 830160 17 832207 20 834253 24 836300...</td>\n",
       "    </tr>\n",
       "    <tr>\n",
       "      <th>4</th>\n",
       "      <td>image1661319116107.png</td>\n",
       "      <td>finger-5</td>\n",
       "      <td>1084159 7 1086203 12 1088248 16 1090292 20 109...</td>\n",
       "    </tr>\n",
       "  </tbody>\n",
       "</table>\n",
       "</div>"
      ],
      "text/plain": [
       "               image_name     class  \\\n",
       "0  image1661319116107.png  finger-1   \n",
       "1  image1661319116107.png  finger-2   \n",
       "2  image1661319116107.png  finger-3   \n",
       "3  image1661319116107.png  finger-4   \n",
       "4  image1661319116107.png  finger-5   \n",
       "\n",
       "                                                 rle  \n",
       "0  1814994 5 1817039 13 1819085 18 1821132 22 182...  \n",
       "1  2079292 8 2081337 13 2083382 18 2085427 22 208...  \n",
       "2  2538135 7 2540181 11 2542228 14 2544275 17 254...  \n",
       "3  828114 12 830160 17 832207 20 834253 24 836300...  \n",
       "4  1084159 7 1086203 12 1088248 16 1090292 20 109...  "
      ]
     },
     "execution_count": 5,
     "metadata": {},
     "output_type": "execute_result"
    }
   ],
   "source": [
    "dat.head()"
   ]
  },
  {
   "cell_type": "code",
   "execution_count": 6,
   "metadata": {},
   "outputs": [
    {
     "data": {
      "text/plain": [
       "image_name    0\n",
       "class         0\n",
       "rle           0\n",
       "dtype: int64"
      ]
     },
     "execution_count": 6,
     "metadata": {},
     "output_type": "execute_result"
    }
   ],
   "source": [
    "dat.isna().sum()"
   ]
  },
  {
   "cell_type": "code",
   "execution_count": null,
   "metadata": {},
   "outputs": [],
   "source": []
  }
 ],
 "metadata": {
  "kernelspec": {
   "display_name": "torch",
   "language": "python",
   "name": "python3"
  },
  "language_info": {
   "codemirror_mode": {
    "name": "ipython",
    "version": 3
   },
   "file_extension": ".py",
   "mimetype": "text/x-python",
   "name": "python",
   "nbconvert_exporter": "python",
   "pygments_lexer": "ipython3",
   "version": "3.10.13"
  }
 },
 "nbformat": 4,
 "nbformat_minor": 2
}
